{
 "cells": [
  {
   "cell_type": "code",
   "execution_count": null,
   "id": "881fe60b",
   "metadata": {
    "tags": []
   },
   "outputs": [],
   "source": [
    "from pathlib import Path\n",
    "\n",
    "import numpy as np\n",
    "import pandas as pd\n",
    "import matplotlib.pyplot as plt\n",
    "import seaborn as sns\n",
    "import itertools as iter\n",
    "\n",
    "from regmod.data import Data\n",
    "from regmod.models import BinomialModel\n",
    "from regmod.variable import Variable, SplineVariable\n",
    "from regmod.utils import SplineSpecs\n",
    "\n",
    "from pplkit.data.interface import DataInterface"
   ]
  },
  {
   "cell_type": "code",
   "execution_count": null,
   "id": "024e7cbe-b34a-483c-890c-54ae129bc199",
   "metadata": {
    "tags": []
   },
   "outputs": [],
   "source": [
    "#source activate FILEPATH\n",
    "!which python"
   ]
  },
  {
   "cell_type": "code",
   "execution_count": null,
   "id": "3e47e859",
   "metadata": {},
   "outputs": [],
   "source": [
    "ticket = Path(\"FILEPATH\")\n",
    "dataif = DataInterface(ticket=ticket, data=ticket / \"data\")"
   ]
  },
  {
   "cell_type": "code",
   "execution_count": null,
   "id": "015b5ac4",
   "metadata": {},
   "outputs": [],
   "source": [
    "def pre_process_cf(df: pd.DataFrame) -> pd.DataFrame:\n",
    "    df[\"year_id\"] = (df[\"year_id\"] - 1980) / (2020 - 1980)\n",
    "    id_vars = [\"cause_id\", \"location_id\", \"age_group_id\", \"sex_id\", \"year_id\"]\n",
    "    df_ss = pd.melt(\n",
    "        df.rename(columns={\"sample_vr\": \"vr\", \"sample_cr\": \"cr\"}),\n",
    "        id_vars=id_vars,\n",
    "        value_vars=[\"vr\", \"cr\"],\n",
    "        var_name=\"cf_type\",\n",
    "        value_name=\"sample_size\",\n",
    "    )\n",
    "    df_cf = pd.melt(\n",
    "        df.rename(columns={\"cf_vr\": \"vr\", \"cf_cr\": \"cr\"}),\n",
    "        id_vars=id_vars,\n",
    "        value_vars=[\"vr\", \"cr\"],\n",
    "        var_name=\"cf_type\",\n",
    "        value_name=\"cf\",\n",
    "    )\n",
    "    df_cf = df_cf[~df_cf[\"cf\"].isna()].reset_index(drop=True)\n",
    "    df_cf[\"is_cr\"] = (df_cf[\"cf_type\"] == \"cr\").astype(float)\n",
    "    df_cf = df_cf.merge(\n",
    "        df_ss,\n",
    "        on=id_vars + [\"cf_type\"],\n",
    "        how=\"left\",\n",
    "    )\n",
    "    return df_cf\n",
    "\n",
    "def adjust_cf_cr(\n",
    "    df: pd.DataFrame,\n",
    "    variables: list[Variable, ...],\n",
    "    \n",
    ") -> pd.DataFrame:\n",
    "    df = df.copy()\n",
    "    if len(df[\"cf_type\"].unique()) == 1:\n",
    "        print(f\"all data are {df['cf_type'].unique()[0]}\")\n",
    "        df[\"cf_adjusted\"] = df[\"cf\"]\n",
    "        return df\n",
    "    id_vars = [\"cause_id\", \"location_id\", \"age_group_id\", \"sex_id\", \"year_id\"]\n",
    "    col_covs = [v.name for v in variables]\n",
    "    data = Data(\n",
    "        col_obs=\"cf\",\n",
    "        col_covs=col_covs,\n",
    "        col_weights=\"sample_size\",\n",
    "        df=df,\n",
    "    )\n",
    "    model = BinomialModel(data, param_specs={\"p\": {\"variables\": variables}})\n",
    "    try:\n",
    "        model.fit()\n",
    "    except ValueError:\n",
    "        print(\"singular vcov\")\n",
    "        \n",
    "    # predict\n",
    "    index = col_covs.index(\"is_cr\")\n",
    "    adjustment = np.exp(df[\"is_cr\"] * model.opt_coefs[index])\n",
    "    df[\"cf_adjusted\"] = df[\"cf\"] / ((1 - df[\"cf\"]) * adjustment + df[\"cf\"])\n",
    "    df_pred_data = df.copy()\n",
    "    df_pred_data[\"is_cr\"] = 0.0\n",
    "    df[\"cf_vr_pred\"] = model.predict(df_pred_data)[\"p\"]\n",
    "    df[id_vars + [\"cf_type\", \"cf\", \"cf_adjusted\", \"cf_vr_pred\"]].copy()\n",
    "    return df\n",
    "\n"
   ]
  },
  {
   "cell_type": "code",
   "execution_count": null,
   "id": "f9b17a35",
   "metadata": {},
   "outputs": [],
   "source": [
    "# expanded to all causes both sexes, all ages, all locations\n",
    "df = dataif.load_data(\"overlap_one.csv\")\n",
    "df_group = df.groupby([\"cause_id\",\"location_id\", \"age_group_id\", \"sex_id\"], as_index=False)\n",
    "\n",
    "results = list()\n",
    "for key, df_sub in df_group:\n",
    "    try: \n",
    "        df_sub = pre_process_cf(df_sub)\n",
    "        df_sub = adjust_cf_cr(\n",
    "            df_sub, \n",
    "            variables=[\n",
    "                Variable(\"intercept\"), \n",
    "                Variable(\"is_cr\")\n",
    "            ]\n",
    "        )\n",
    "        \n",
    "        results.append(df_sub)\n",
    "    except Exception as e:  \n",
    "        print(f\"this key failed: {key}\")\n",
    "        print(e)\n",
    "\n",
    "final_result = pd.concat(results)\n",
    "final_result.reset_index(inplace=True)\n",
    "final_result['year_id'] = (final_result['year_id'] * 40) + 1980\n",
    "# Round values to the nearest whole number and convert to integers\n",
    "columns_to_convert = ['cause_id', 'location_id', 'age_group_id', 'sex_id', 'year_id']\n",
    "final_result[columns_to_convert] = final_result[columns_to_convert].round().astype('int')"
   ]
  },
  {
   "cell_type": "code",
   "execution_count": null,
   "id": "230650de",
   "metadata": {},
   "outputs": [],
   "source": [
    "#write out to csv\n",
    "final_result.to_csv(r\"FILEPATH\")"
   ]
  },
  {
   "cell_type": "code",
   "execution_count": null,
   "id": "0af04340",
   "metadata": {},
   "outputs": [],
   "source": []
  }
 ],
 "metadata": {
  "kernelspec": {
   "display_name": "Python 3 (ipykernel)",
   "language": "python",
   "name": "python3"
  },
  "language_info": {
   "codemirror_mode": {
    "name": "ipython",
    "version": 3
   },
   "file_extension": ".py",
   "mimetype": "text/x-python",
   "name": "python",
   "nbconvert_exporter": "python",
   "pygments_lexer": "ipython3",
   "version": "3.10.11"
  }
 },
 "nbformat": 4,
 "nbformat_minor": 5
}
