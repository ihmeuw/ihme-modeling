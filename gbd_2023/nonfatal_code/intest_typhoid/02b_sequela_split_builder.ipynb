{
 "cells": [
  {
   "cell_type": "code",
   "execution_count": null,
   "id": "22eda85d-0148-48ba-bcc4-9c5c2bc37fe8",
   "metadata": {},
   "outputs": [],
   "source": [
    "import numpy as np\n",
    "import pandas as pd\n",
    "from os import mkdir\n",
    "\n",
    "release = 16\n",
    "root_dir = f\"FILEPATH\"\n",
    "\n",
    "try:\n",
    "    mkdir(root_dir)\n",
    "except FileExistsError:\n",
    "    print(\"dir already exists\")\n",
    "\n",
    "  \n",
    "# CREATE SEVERITY SPLIT DRAWS FOR TYPHOID\n",
    "abdom_sev = 0.17\n",
    "bleeding  = 0.05 * (2/365) * (52/6)  # 5% of people will have this for 2-days -- I'm adjusting proportion rather than duration (easier to code & mathematically equivalent)\n",
    "inf_mod   = 0.35 \n",
    "inf_sev   = 0.43 + 0.05 - bleeding  # for the remainder of duration, those with gastric bleeding have inf_sev\n",
    "\n",
    "SAMPLE = 100\n",
    "\n",
    "typh = pd.DataFrame({\"state\": [\"inf_mod\", \"inf_sev\", \"abdom_sev\", \"gastric_bleeding\"],\n",
    "                     \"mu\": [inf_mod, inf_sev, abdom_sev, bleeding]})     \n",
    "\n",
    "typh[\"alpha\"] = SAMPLE * typh[\"mu\"]\n",
    "typh[\"beta\"]  = SAMPLE - typh[\"alpha\"]\n",
    "typh[\"cause\"] = \"typhoid\"\n",
    "\n",
    "typh = typh.drop(columns = [\"mu\"])\n",
    "\n",
    "print(typh)"
   ]
  },
  {
   "cell_type": "code",
   "execution_count": null,
   "id": "d0c78294-0721-4d95-9d2b-017f4004ccdb",
   "metadata": {},
   "outputs": [],
   "source": [
    "  \n",
    "# CREATE SEVERITY SPLIT DRAWS FOR PARATYPHOID \n",
    "abdom_mod = 0.05\n",
    "inf_mild  = 0.30 * (1 - abdom_mod)\n",
    "inf_mod   = 0.55 * (1 - abdom_mod)\n",
    "inf_sev   = 0.15 * (1 - abdom_mod)\n",
    "\n",
    "para = pd.DataFrame({\"state\": [\"inf_mild\", \"inf_mod\", \"inf_sev\", \"abdom_mod\"],\n",
    "                     \"mu\":[inf_mild, inf_mod, inf_sev, abdom_mod]})\n",
    "\n",
    "para[\"sigma\"] = para[\"mu\"]/4\n",
    "para[\"alpha\"] = para[\"mu\"] * (para[\"mu\"] - para[\"mu\"]**2 - para[\"sigma\"]**2) / para[\"sigma\"]**2 \n",
    "para[\"beta\"]  = para[\"alpha\"] * (1 - para[\"mu\"]) / para[\"mu\"]\n",
    "para[\"cause\"] = \"paratyphoid\"\n",
    "para = para.drop(columns = [\"mu\", \"sigma\"])\n",
    "print(para)"
   ]
  },
  {
   "cell_type": "code",
   "execution_count": null,
   "id": "909a64f6-4a96-4ada-82cc-fc0a9501daa0",
   "metadata": {},
   "outputs": [],
   "source": [
    "# CREATE DURATION DISTRIBUTION PARAMETERS\n",
    "\"\"\"\n",
    "This code was used to determine the parameters of a PERT distribution that would yield the correct point estimate and CI bounds\n",
    "for the duration of typhoid/paratyphoid symptoms.  It works via brute force grid search, adjusting min and max values until  \n",
    "parameters yield the correct 95% CI limits.\n",
    "\n",
    "The first block was used to determine the parameters for severe illness with a mean duration of 28 days and 95%CI of 14 - 49 (2-7 weeks)\n",
    "The second block was used for moderate illness with a mean duratin of 14 days and 95%CI of 7-21 (1-3 weeks)\n",
    "\"\"\"\n",
    "\n",
    "def get_beta_parms(mn, mx, u, l):\n",
    "    range = mx - mn\n",
    "    mode  = (u * l + 2 * u - mn - mx) / l\n",
    "    \n",
    "    if u == mode:\n",
    "        v = (l / 2 ) + 1\n",
    "    else:\n",
    "        v = ((u - mn) * (2 * mode - mn - mx)) / ((mode - u) * (mx - mn))\n",
    "    \n",
    "    w = (v * (mx - u)) / (u - mn)\n",
    "    \n",
    "    return [v, w, range, mn]\n",
    "\n",
    "sev_parms = get_beta_parms(12.05, 67, 28, 4)   \n",
    "mod_parms = get_beta_parms(4.2, 24, 14, 4)"
   ]
  },
  {
   "cell_type": "code",
   "execution_count": null,
   "id": "c64e4207-52bf-4759-9107-f684e42adc9e",
   "metadata": {},
   "outputs": [],
   "source": [
    "full = pd.concat([typh, para], ignore_index = True)\n",
    "full.loc[full.state.isin([\"inf_sev\", \"abdom_sev\", \"gastric_bleeding\"]),  [\"v\", \"w\", \"range\", \"min\"]] = sev_parms\n",
    "full.loc[~full.state.isin([\"inf_sev\", \"abdom_sev\", \"gastric_bleeding\"]), [\"v\", \"w\", \"range\", \"min\"]] = mod_parms\n",
    "\n",
    "draw_df = pd.DataFrame({'draw': [f'draw_{str(i)}' for i in list(range(1000))], 'key': 0})\n",
    "\n",
    "full['key'] = 0\n",
    "full = full.merge(draw_df, on = 'key', how = 'outer')   \n",
    "\n",
    "full['pr'] = np.random.beta(full['alpha'], full['beta'])\n",
    "full['duration'] = (np.random.beta(full['v'], full['w']) * full['range'] + full['min']) / 365.25\n",
    "\n",
    "full = full[['state', 'cause', 'draw', 'pr', 'duration']]\n",
    "full.head()"
   ]
  },
  {
   "cell_type": "code",
   "execution_count": null,
   "id": "50df30d7-a50d-4c0b-b8d8-709dbd01cdf1",
   "metadata": {},
   "outputs": [],
   "source": [
    "full = pd.concat([full, full], keys = [5, 6], names = ['measure_id', 'row_id']).reset_index().drop(columns = 'row_id')\n",
    "full.loc[full['measure_id'] == 6, 'duration'] = 1\n",
    "full.head()"
   ]
  },
  {
   "cell_type": "code",
   "execution_count": null,
   "id": "32679e4a-fd5a-4af0-b55f-0466ebfae143",
   "metadata": {},
   "outputs": [],
   "source": [
    "full.groupby('measure_id')['duration'].mean()"
   ]
  },
  {
   "cell_type": "code",
   "execution_count": null,
   "id": "232462ad-9efd-4310-af3f-0fa021fc2a8d",
   "metadata": {},
   "outputs": [],
   "source": [
    "parent = full.copy()\n",
    "parent['wt_duration'] = parent['duration'] * parent['pr']\n",
    "parent = parent.groupby(['measure_id', 'draw'])['wt_duration'].sum().reset_index()\n",
    "parent = parent.rename(columns = {'wt_duration': 'duration'})\n",
    "parent['cause'] = 'intest'\n",
    "parent['state'] = 'parent'\n",
    "parent['pr'] = 1\n",
    "parent.loc[parent['measure_id'] == 6, 'duration'] = 1\n",
    "\n",
    "full = pd.concat([full, parent], ignore_index = True)\n",
    "full.groupby('measure_id')['duration'].mean()"
   ]
  },
  {
   "cell_type": "code",
   "execution_count": null,
   "id": "ddba9e63-b1ee-4a58-ad6b-4f0dfb290f61",
   "metadata": {},
   "outputs": [],
   "source": [
    "out = root_dir + \"sequela_splits.csv\"\n",
    "print(out)\n",
    "\n",
    "full.to_csv(out, index = False)        "
   ]
  }
 ],
 "metadata": {
  "kernelspec": {
   "display_name": "Python 3 (ipykernel)",
   "language": "python",
   "name": "python3"
  },
  "language_info": {
   "codemirror_mode": {
    "name": "ipython",
    "version": 3
   },
   "file_extension": ".py",
   "mimetype": "text/x-python",
   "name": "python",
   "nbconvert_exporter": "python",
   "pygments_lexer": "ipython3",
   "version": "3.8.18"
  }
 },
 "nbformat": 4,
 "nbformat_minor": 5
}
