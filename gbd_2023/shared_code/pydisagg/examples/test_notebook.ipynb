{
 "cells": [
  {
   "cell_type": "code",
   "execution_count": 1,
   "metadata": {},
   "outputs": [],
   "source": [
    "from pydisagg.disaggregate import split_datapoint\n",
    "import numpy as np\n",
    "from pydisagg.models import RateMultiplicativeModel\n",
    "from pydisagg.models import LMOModel\n",
    "from pydisagg.models import LogOddsModel\n",
    "import pandas as pd\n",
    "from tqdm.auto import tqdm"
   ]
  },
  {
   "cell_type": "code",
   "execution_count": 2,
   "metadata": {},
   "outputs": [],
   "source": [
    "populations=np.array([20,10,5])\n",
    "rate_pattern=np.array([0.1,0.5,0.7])\n",
    "observed_total=20.\n",
    "observed_total_SE=0\n",
    "pattern_cov = 0.01*np.identity(3)\n",
    "zero_cov = np.zeros((3,3))"
   ]
  },
  {
   "cell_type": "code",
   "execution_count": 3,
   "metadata": {},
   "outputs": [],
   "source": [
    "oddm=LogOddsModel()"
   ]
  },
  {
   "cell_type": "code",
   "execution_count": 6,
   "metadata": {},
   "outputs": [
    {
     "data": {
      "text/plain": [
       "array([[ 2.187, -1.762, -0.425],\n",
       "       [-1.762,  1.452,  0.31 ],\n",
       "       [-0.425,  0.31 ,  0.115]])"
      ]
     },
     "execution_count": 6,
     "metadata": {},
     "output_type": "execute_result"
    }
   ],
   "source": [
    "b=oddm.fit_beta(observed_total,rate_pattern,populations)\n",
    "\n",
    "C=oddm.count_split_covariance_uncertainty(b,rate_pattern,populations,observed_total_SE,pattern_cov)\n",
    "np.around(C,3)\n"
   ]
  },
  {
   "cell_type": "code",
   "execution_count": 9,
   "metadata": {},
   "outputs": [
    {
     "data": {
      "text/plain": [
       "array([7.08400681, 8.31542362, 4.60056957])"
      ]
     },
     "execution_count": 9,
     "metadata": {},
     "output_type": "execute_result"
    }
   ],
   "source": [
    "oddm.split_to_counts(observed_total,rate_pattern,populations)"
   ]
  },
  {
   "cell_type": "code",
   "execution_count": 5,
   "metadata": {},
   "outputs": [
    {
     "data": {
      "text/plain": [
       "array([[2.0806605 , 0.63708815, 0.16715031],\n",
       "       [0.63708815, 0.1950733 , 0.05118061],\n",
       "       [0.16715031, 0.05118061, 0.01342806]])"
      ]
     },
     "execution_count": 5,
     "metadata": {},
     "output_type": "execute_result"
    }
   ],
   "source": [
    "C=oddm.count_split_covariance_uncertainty(b,rate_pattern,populations,2,zero_cov)\n",
    "C"
   ]
  },
  {
   "cell_type": "code",
   "execution_count": 10,
   "metadata": {},
   "outputs": [
    {
     "data": {
      "text/plain": [
       "array([[0.00520165, 0.00318544, 0.0016715 ],\n",
       "       [0.00318544, 0.00195073, 0.00102361],\n",
       "       [0.0016715 , 0.00102361, 0.00053712]])"
      ]
     },
     "execution_count": 10,
     "metadata": {},
     "output_type": "execute_result"
    }
   ],
   "source": [
    "C=oddm.rate_split_covariance_uncertainty(b,rate_pattern,populations,2,zero_cov)\n",
    "C"
   ]
  },
  {
   "cell_type": "code",
   "execution_count": 12,
   "metadata": {},
   "outputs": [
    {
     "data": {
      "text/plain": [
       "array([[2.0806605 , 0.63708815, 0.16715031],\n",
       "       [0.63708815, 0.1950733 , 0.05118061],\n",
       "       [0.16715031, 0.05118061, 0.01342806]])"
      ]
     },
     "execution_count": 12,
     "metadata": {},
     "output_type": "execute_result"
    }
   ],
   "source": [
    "np.diag(populations)@C@np.diag(populations)"
   ]
  },
  {
   "cell_type": "code",
   "execution_count": 18,
   "metadata": {},
   "outputs": [],
   "source": [
    "populations=np.array([20,10,5])\n",
    "rate_pattern=np.array([0.1,0.5,0.7])\n",
    "observed_total=20.\n",
    "variance_scale=0.0001\n",
    "pattern_cov = variance_scale*np.identity(3)\n",
    "zero_cov = np.zeros((3,3))\n",
    "\n",
    "num_samples = 1000\n",
    "pattern_draws = np.random.multivariate_normal(rate_pattern,pattern_cov,int(1.5*num_samples))\n",
    "pattern_draws = pattern_draws[np.min(pattern_draws,axis=1)>0.01][:num_samples]\n",
    "total_draws = observed_total + np.sqrt(variance_scale)*np.random.randn(num_samples)"
   ]
  },
  {
   "cell_type": "code",
   "execution_count": 19,
   "metadata": {},
   "outputs": [
    {
     "data": {
      "application/vnd.jupyter.widget-view+json": {
       "model_id": "4cf90b73485641c98f23ff03dfae7949",
       "version_major": 2,
       "version_minor": 0
      },
      "text/plain": [
       "  0%|          | 0/1000 [00:00<?, ?it/s]"
      ]
     },
     "metadata": {},
     "output_type": "display_data"
    }
   ],
   "source": [
    "splits = [\n",
    "    oddm.split_to_rates(tot,pattern,populations) for tot,pattern in tqdm(zip(total_draws,pattern_draws),\n",
    "                                                                         total=num_samples)\n",
    "                                                                         ]\n",
    "splits = np.array(splits)\n"
   ]
  },
  {
   "cell_type": "code",
   "execution_count": 20,
   "metadata": {},
   "outputs": [
    {
     "name": "stdout",
     "output_type": "stream",
     "text": [
      "Estimated covariance matrix from draws\n",
      "[[ 5.27047208e-05 -8.48189139e-05 -4.04843734e-05]\n",
      " [-8.48189139e-05  1.40448489e-04  5.88536888e-05]\n",
      " [-4.04843734e-05  5.88536888e-05  4.43314061e-05]]\n",
      "Estimated covariance matrix from delta method\n",
      "[[ 5.48126131e-05 -8.80335241e-05 -4.24621796e-05]\n",
      " [-8.80335241e-05  1.45268781e-04  6.20382061e-05]\n",
      " [-4.24621796e-05  6.20382061e-05  4.60040650e-05]]\n",
      "Frobenius norm relative error:\n",
      "0.04019034164408226\n"
     ]
    }
   ],
   "source": [
    "draw_cov = np.cov(splits.T)\n",
    "asymptotic_cov = oddm.rate_split_covariance_uncertainty(\n",
    "    oddm.fit_beta(observed_total,rate_pattern,populations),\n",
    "    rate_pattern,\n",
    "    populations,\n",
    "    np.sqrt(variance_scale),\n",
    "    pattern_cov\n",
    "    )\n",
    "print(\"Estimated covariance matrix from draws\")\n",
    "print(draw_cov)\n",
    "\n",
    "print(\"Estimated covariance matrix from delta method\")\n",
    "print(asymptotic_cov)\n",
    "\n",
    "print(\"Frobenius norm relative error:\")\n",
    "rel_error=np.linalg.norm(draw_cov-asymptotic_cov)/np.linalg.norm(draw_cov)\n",
    "print(rel_error)"
   ]
  },
  {
   "cell_type": "code",
   "execution_count": null,
   "metadata": {},
   "outputs": [],
   "source": []
  }
 ],
 "metadata": {
  "kernelspec": {
   "display_name": "base",
   "language": "python",
   "name": "python3"
  },
  "language_info": {
   "codemirror_mode": {
    "name": "ipython",
    "version": 3
   },
   "file_extension": ".py",
   "mimetype": "text/x-python",
   "name": "python",
   "nbconvert_exporter": "python",
   "pygments_lexer": "ipython3",
   "version": "3.9.12"
  },
  "orig_nbformat": 4
 },
 "nbformat": 4,
 "nbformat_minor": 2
}
